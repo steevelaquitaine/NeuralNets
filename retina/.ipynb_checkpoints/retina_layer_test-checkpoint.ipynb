{
 "cells": [
  {
   "cell_type": "markdown",
   "metadata": {},
   "source": [
    "\n",
    "#Retina\n",
    "Forward pass does contrast normalization and backward pass calculates the gradients on W=32 x H=32 x time=16 image\n",
    "data\n",
    "\n",
    "For questions ask steeve laquitaine at steeve@stanford.edu\n",
    "\n",
    "date: 02/11/2015"
   ]
  },
  {
   "cell_type": "code",
   "execution_count": 2,
   "metadata": {
    "collapsed": false
   },
   "outputs": [],
   "source": [
    "#setup\n",
    "import numpy as np   #numpy\n",
    "import matplotlib.pyplot as plt  #plots\n",
    "\n",
    "#import codes to load data\n",
    "#from motiondeepnet/data_utils/data_utils.py\n",
    "#\"data_utils.py\" was written by cs231n\n",
    "from data_utils.data_utils import get_CIFAR10_data\n",
    "\n",
    "#import motion deep net wrapper\n",
    "from retina import *\n",
    "\n",
    "#allow use of plots inside the notebook\n",
    "%matplotlib inline\n",
    "\n",
    "#setup plot sizes\n",
    "plt.rcParams['figure.figsize'] = (10.0, 8.0) # set default size of plots\n",
    "#interpolation\n",
    "plt.rcParams['image.interpolation'] = 'nearest'\n",
    "#grayscale\n",
    "plt.rcParams['image.cmap'] = 'gray'\n",
    "\n",
    "#for auto-reloading external modules\n",
    "#see http://stackoverflow.com/questions/1907993/autoreload-of-modules-in-ipython\n",
    "%load_ext autoreload\n",
    "%autoreload 2\n"
   ]
  },
  {
   "cell_type": "code",
   "execution_count": null,
   "metadata": {
    "collapsed": false
   },
   "outputs": [],
   "source": [
    "#for now: load the (preprocessed) CIFAR10 data\n",
    "#(ultimately: input data 32x32x16)\n",
    "\n",
    "data = get_CIFAR10_data()\n",
    "for k, v in data.iteritems():\n",
    "  print '%s: ' % k, v.shape"
   ]
  },
  {
   "cell_type": "markdown",
   "metadata": {},
   "source": [
    "#Forward pass \n",
    "Load 3 training images and run forward pass "
   ]
  },
  {
   "cell_type": "code",
   "execution_count": null,
   "metadata": {
    "collapsed": false
   },
   "outputs": [],
   "source": [
    "#load three training images\n",
    "X_test = data['X_test'][:2,:,:,:]\n",
    "\n",
    "#run forward pass\n",
    "out = contrast_norm_forward(X_test)"
   ]
  },
  {
   "cell_type": "code",
   "execution_count": null,
   "metadata": {
    "collapsed": false
   },
   "outputs": [],
   "source": [
    "#Example of forward pass for a training image at one time frame\n",
    "trainImage = 0\n",
    "timeFrm    = 0\n",
    "\n",
    "#plot input and output images\n",
    "plt.subplot(1,3,2)\n",
    "plt.imshow(X_test[trainImage,timeFrm,:,:],clim=(-30,30)) \n",
    "\n",
    "plt.title('Image before normalization')\n",
    "plt.subplot(1,3,3)\n",
    "plt.imshow(out[trainImage,timeFrm,:,:],clim=(-30,30))\n",
    "plt.title('Image after normalization')\n",
    "\n",
    "#plot the image values and mean\n",
    "plt.subplot(1, 3, 1)\n",
    "plt.plot(np.reshape(X_test[trainImage,timeFrm,:,:],-1))\n",
    "plt.axhline(y=np.mean(X_test[trainImage,timeFrm,:,:]),color='r')\n",
    "#plot the output values and mean\n",
    "plt.plot(np.reshape(out[trainImage,timeFrm,:,:],-1),color='k')\n",
    "plt.axhline(y=np.mean(out[trainImage,timeFrm,:,:]),color='g')\n",
    "plt.title('Contrast normalization')\n",
    "\n",
    "##check that image is contrast normalized\n",
    "#should be = 0\n",
    "test_out = (X_test[trainImage,timeFrm,:,:] - np.mean(X_test[trainImage,timeFrm,:,:]))/np.mean(X_test[trainImage,timeFrm,:,:])\n",
    "print sum(sum(out[trainImage,timeFrm,:,:] - test_out))\n",
    "\n"
   ]
  },
  {
   "cell_type": "code",
   "execution_count": null,
   "metadata": {
    "collapsed": true
   },
   "outputs": [],
   "source": []
  },
  {
   "cell_type": "code",
   "execution_count": null,
   "metadata": {
    "collapsed": true
   },
   "outputs": [],
   "source": []
  }
 ],
 "metadata": {
  "kernelspec": {
   "display_name": "Python 2",
   "language": "python",
   "name": "python2"
  },
  "language_info": {
   "codemirror_mode": {
    "name": "ipython",
    "version": 2
   },
   "file_extension": ".py",
   "mimetype": "text/x-python",
   "name": "python",
   "nbconvert_exporter": "python",
   "pygments_lexer": "ipython2",
   "version": "2.7.11"
  }
 },
 "nbformat": 4,
 "nbformat_minor": 0
}
